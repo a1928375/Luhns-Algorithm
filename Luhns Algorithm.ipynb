{
 "cells": [
  {
   "cell_type": "code",
   "execution_count": 1,
   "metadata": {},
   "outputs": [
    {
     "name": "stdout",
     "output_type": "stream",
     "text": [
      "False\n",
      "True\n"
     ]
    }
   ],
   "source": [
    "# concise definition of the Luhn checksum:\n",
    "#\n",
    "# \"For a card with an even number of digits, double every odd numbered digit and subtract 9 if the product is greater \n",
    "# than 9. Add up all the even digits as well as the doubled-odd digits, and the result must be a multiple of 10 or \n",
    "# it's not a valid card. If the card has an odd number of digits, perform the same addition doubling the even numbered digits instead.\"\n",
    "#\n",
    "# for more details see here: http://www.merriampark.com/anatomycc.htm\n",
    "#\n",
    "# also see the Wikipedia entry, but don't do that unless you really want the answer, since it contains working \n",
    "# Python code!\n",
    "# \n",
    "# Implement the Luhn Checksum algorithm as described above.\n",
    "# is_luhn_valid takes a credit card number as input and verifies whether it is valid or not. If it is valid, it \n",
    "# returns True, otherwise it returns False.\n",
    "\n",
    "# 123\n",
    "# 1234\n",
    "\n",
    "def is_luhn_valid(n):\n",
    "    \n",
    "    ele = str(n)\n",
    "    \n",
    "    res1, res2 = 0, 0\n",
    "    \n",
    "    if len(ele) % 2 == 0:\n",
    "        \n",
    "        for i in range (0, len(ele), 2):\n",
    "            \n",
    "            if int(ele[i])*2 > 9:\n",
    "                \n",
    "                res1 = res1 + (int(ele[i])*2-9)\n",
    "                \n",
    "            else:\n",
    "                \n",
    "                res1 = res1 + int(ele[i])*2\n",
    "        \n",
    "        for j in range (1, len(ele), 2):\n",
    "            \n",
    "            res2 = res2 + int(ele[j])\n",
    "    \n",
    "        return (res1 + res2) % 10 == 0\n",
    "    \n",
    "    else:\n",
    "        \n",
    "        for k in range (1, len(ele), 2):\n",
    "            \n",
    "            if int(ele[k])*2 > 9:\n",
    "                \n",
    "                res1 = res1 + (int(ele[k])*2-9)\n",
    "        \n",
    "            else:\n",
    "                \n",
    "                res1 = res1 + int(ele[k])*2\n",
    "        \n",
    "        for l in range (0, len(ele), 2):\n",
    "            \n",
    "            res2 = res2 + int(ele[l])\n",
    "    \n",
    "        return (res1 + res2) % 10 == 0    \n",
    "\n",
    "print (is_luhn_valid(123456))\n",
    "print (is_luhn_valid(352361060023017))\n",
    "    "
   ]
  }
 ],
 "metadata": {
  "kernelspec": {
   "display_name": "Python 3",
   "language": "python",
   "name": "python3"
  },
  "language_info": {
   "codemirror_mode": {
    "name": "ipython",
    "version": 3
   },
   "file_extension": ".py",
   "mimetype": "text/x-python",
   "name": "python",
   "nbconvert_exporter": "python",
   "pygments_lexer": "ipython3",
   "version": "3.7.3"
  }
 },
 "nbformat": 4,
 "nbformat_minor": 2
}
